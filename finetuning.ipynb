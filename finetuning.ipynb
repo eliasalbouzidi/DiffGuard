{
 "cells": [
  {
   "cell_type": "markdown",
   "id": "fc161973",
   "metadata": {},
   "source": [
    "# Finetuning"
   ]
  },
  {
   "cell_type": "code",
   "execution_count": 2,
   "id": "3a04eb01",
   "metadata": {},
   "outputs": [
    {
     "name": "stdout",
     "output_type": "stream",
     "text": [
      "  adding: datasets_validation/ (stored 0%)\n",
      "  adding: datasets_validation/mma_target.csv (deflated 84%)\n",
      "  adding: datasets_validation/.DS_Store (deflated 94%)\n",
      "  adding: datasets_validation/nsfw_363.json (deflated 72%)\n",
      "  adding: datasets_validation/nsfwmma_adv_prompts.csv (deflated 71%)\n",
      "  adding: datasets_validation/unsafe_dataset_for_comparison.csv (deflated 66%)\n",
      "  adding: datasets_validation/sneakydataset.csv (deflated 72%)\n",
      "  adding: datasets_validation/mma_text.csv (deflated 66%)\n",
      "  adding: datasets_validation/mma_sanitized.csv (deflated 65%)\n",
      "  adding: datasets_validation/nsfwsneaky.txt (deflated 66%)\n"
     ]
    }
   ],
   "source": [
    "! zip -r datasets_validation.zip datasets_validation"
   ]
  },
  {
   "cell_type": "code",
   "execution_count": null,
   "id": "e24b2da9",
   "metadata": {},
   "outputs": [],
   "source": [
    "! pip install requirements.txt"
   ]
  },
  {
   "cell_type": "code",
   "execution_count": 15,
   "id": "5ab1e13d-73e8-46d5-8abc-c1f6728899d6",
   "metadata": {},
   "outputs": [
    {
     "name": "stdout",
     "output_type": "stream",
     "text": [
      "A GPU is available and will be utilized.\n",
      "Utilisation de GPU: NVIDIA GeForce RTX 3090\n",
      "Mémoire totale de GPU: 23.68890380859375 GB\n",
      "Mémoire disponible sur GPU: 23.68890380859375 GB\n",
      "Nombre de GPU disponibles: 1\n"
     ]
    }
   ],
   "source": [
    "# Importing libraries\n",
    "import pandas as pd\n",
    "from sklearn import metrics\n",
    "from sklearn.metrics import accuracy_score, recall_score, precision_score, f1_score, fbeta_score\n",
    "from transformers import AutoTokenizer, Trainer, TrainingArguments, AutoModelForSequenceClassification\n",
    "import torch\n",
    "from torch import cuda, nn\n",
    "import wandb\n",
    "from datasets import load_dataset\n",
    "\n",
    "pd.set_option('display.max_columns', None)\n",
    "pd.set_option('display.max_rows', None)\n",
    "pd.set_option('display.max_colwidth', None)\n",
    "\n",
    "# Setting up the device for GPU usage\n",
    "if cuda.is_available():\n",
    "    device = 'cuda'\n",
    "    print(\"A GPU is available and will be utilized.\")\n",
    "    print(\"Using GPU:\", torch.cuda.get_device_name(0))\n",
    "    print(\"Total GPU memory:\", torch.cuda.get_device_properties(device).total_memory / (1024**3), \"GB\")\n",
    "    print(\"Available GPU memory:\", torch.cuda.get_device_properties(device).total_memory / (1024**3), \"GB\")\n",
    "    print(\"Number of available GPUs:\", torch.cuda.device_count())\n",
    "    device = 'cuda'\n",
    "else:\n",
    "    print(\"No GPU available. The CPU will be used instead.\")\n",
    "    print(\"CPU name:\", torch.cuda.get_device_name(0))\n",
    "    print(\"Number of logical cores:\", torch.cuda.get_device_properties(0).multi_processor_count)\n",
    "    print(\"CPU architecture:\", torch.cuda.get_device_properties(0).major, \".\", torch.cuda.get_device_properties(0).minor)\n",
    "    device = \"cpu\"\n"
   ]
  },
  {
   "cell_type": "code",
   "execution_count": 16,
   "metadata": {},
   "outputs": [
    {
     "data": {
      "text/plain": [
       "DatasetDict({\n",
       "    train: Dataset({\n",
       "        features: ['text', 'labels', '__index_level_0__'],\n",
       "        num_rows: 187788\n",
       "    })\n",
       "    validation: Dataset({\n",
       "        features: ['text', 'labels', '__index_level_0__'],\n",
       "        num_rows: 40241\n",
       "    })\n",
       "    test: Dataset({\n",
       "        features: ['text', 'labels', '__index_level_0__'],\n",
       "        num_rows: 40240\n",
       "    })\n",
       "    train_nopreprocessing: Dataset({\n",
       "        features: ['text', 'labels', '__index_level_0__'],\n",
       "        num_rows: 174191\n",
       "    })\n",
       "    validation_nopreprocessing: Dataset({\n",
       "        features: ['text', 'labels', '__index_level_0__'],\n",
       "        num_rows: 37209\n",
       "    })\n",
       "    test_nopreprocessing: Dataset({\n",
       "        features: ['text', 'labels', '__index_level_0__'],\n",
       "        num_rows: 37300\n",
       "    })\n",
       "})"
      ]
     },
     "execution_count": 16,
     "metadata": {},
     "output_type": "execute_result"
    }
   ],
   "source": [
    "dataset = load_dataset(\"eliasalbouzidi/NSFW-Safe-Dataset\")\n",
    "dataset"
   ]
  },
  {
   "cell_type": "code",
   "execution_count": 18,
   "id": "d0cf3631-ac9f-41da-afdf-5659f052f884",
   "metadata": {},
   "outputs": [
    {
     "data": {
      "text/plain": [
       "{'safe': 0, 'nsfw': 1}"
      ]
     },
     "execution_count": 18,
     "metadata": {},
     "output_type": "execute_result"
    }
   ],
   "source": [
    "labels = ['safe', 'nsfw']\n",
    "num_labels=len(labels)\n",
    "id2label = {idx: label for idx, label in enumerate(labels)}\n",
    "id2label\n",
    "{ 0: 'safe', 1: 'nsfw'}\n",
    "label2id = {v:k for k,v in id2label.items()}\n",
    "label2id\n",
    "{'safe': 0, 'nsfw': 1}\n"
   ]
  },
  {
   "cell_type": "code",
   "execution_count": 20,
   "id": "55a13f72-ebdd-4770-ab7f-6bc83d4d7fc1",
   "metadata": {},
   "outputs": [],
   "source": [
    "max_length=512\n",
    "name=\"distilbert-base-uncased\"\n"
   ]
  },
  {
   "cell_type": "code",
   "execution_count": 21,
   "id": "547bacfe-357d-4652-80b4-11b862dd7d78",
   "metadata": {},
   "outputs": [
    {
     "name": "stderr",
     "output_type": "stream",
     "text": [
      "/usr/users/opt_robustness_diff_models/albouzidi_eli/Documents/.venv/lib/python3.8/site-packages/huggingface_hub/file_download.py:1132: FutureWarning: `resume_download` is deprecated and will be removed in version 1.0.0. Downloads always resume when possible. If you want to force a new download, use `force_download=True`.\n",
      "  warnings.warn(\n"
     ]
    }
   ],
   "source": [
    "tokenizer = AutoTokenizer.from_pretrained(name,truncation=True, do_lower_case=True, padding = True,max_length=max_length)\n"
   ]
  },
  {
   "cell_type": "code",
   "execution_count": 22,
   "id": "bf3223c1-7a32-491e-9a3e-f307d4eba728",
   "metadata": {},
   "outputs": [
    {
     "name": "stderr",
     "output_type": "stream",
     "text": [
      "Map: 100%|██████████| 40241/40241 [00:02<00:00, 13722.57 examples/s]\n"
     ]
    }
   ],
   "source": [
    "def tokenize_text(examples):\n",
    " return tokenizer(examples[\"text\"], truncation=True,max_length=max_length)\n",
    "dataset = dataset.map(tokenize_text, batched=True)"
   ]
  },
  {
   "cell_type": "code",
   "execution_count": 23,
   "id": "b187a6bc-ca6a-4392-8bb5-3a6c76586d5f",
   "metadata": {},
   "outputs": [
    {
     "name": "stdout",
     "output_type": "stream",
     "text": [
      "[0.37529022 0.62470978]\n"
     ]
    }
   ],
   "source": [
    "labels_series = pd.Series(dataset[\"train\"][\"labels\"])\n",
    "class_weights = (1 - ( labels_series.value_counts().sort_index() / len(dataset[\"train\"][\"labels\"]) )   ).values\n",
    "print(class_weights)\n",
    "\n",
    "class_weights = torch.from_numpy(class_weights).float().to(\"cuda\")\n",
    "\n"
   ]
  },
  {
   "cell_type": "code",
   "execution_count": 24,
   "id": "18709e5a-ae32-4890-a6fe-52593ae636f6",
   "metadata": {},
   "outputs": [],
   "source": [
    "class WeightedLossTrainer(Trainer):\n",
    "    def compute_loss(self, model, inputs, return_outputs=False):\n",
    "\n",
    "        # Feed inputs to model and extract logits\n",
    "        outputs = model(**inputs)\n",
    "        logits = outputs.get(\"logits\")\n",
    "\n",
    "        # Extract labels\n",
    "        labels = inputs.get(\"labels\")\n",
    "\n",
    "        # Define loss function with class weights\n",
    "        loss_func = nn.CrossEntropyLoss(weight=class_weights)  # Assuming class_weights is defined elsewhere\n",
    "\n",
    "        # Compute loss\n",
    "        loss = loss_func(logits, labels)\n",
    "\n",
    "        return (loss, outputs) if return_outputs else loss\n",
    "        \n"
   ]
  },
  {
   "cell_type": "code",
   "execution_count": null,
   "id": "068deeb9-6605-4212-a4a7-d2b3016068a7",
   "metadata": {},
   "outputs": [],
   "source": [
    "model = AutoModelForSequenceClassification.from_pretrained(name, num_labels=num_labels,id2label=id2label,label2id=label2id)\n",
    "\n",
    "# Uncomment for transfer learning\n",
    "# for param in model.base_model.parameters():\n",
    "#     param.requires_grad = False\n",
    "\n",
    "model.to(\"cuda\")"
   ]
  },
  {
   "cell_type": "code",
   "execution_count": 26,
   "id": "4784a0b1-b3dd-4fcd-88ad-1971c68b1df0",
   "metadata": {},
   "outputs": [],
   "source": [
    "\n",
    "def compute_metrics(pred):\n",
    "    labels = pred.label_ids\n",
    "    preds = pred.predictions.argmax(-1)\n",
    "\n",
    "    accuracy = accuracy_score(labels, preds)\n",
    "    recall = recall_score(labels, preds)\n",
    "    precision = precision_score(labels, preds)\n",
    "    f1 = f1_score(labels, preds)\n",
    "    fbeta_1_6 = fbeta_score(labels, preds, beta=1.6)\n",
    "\n",
    "    return {\n",
    "        \"accuracy\": accuracy,\n",
    "        \"f1\": f1,\n",
    "        \"fbeta_1.6\": fbeta_1_6,\n",
    "        \"precision\": precision,\n",
    "        \"recall\": recall\n",
    "\n",
    "    }"
   ]
  },
  {
   "cell_type": "code",
   "execution_count": 13,
   "metadata": {},
   "outputs": [
    {
     "name": "stderr",
     "output_type": "stream",
     "text": [
      "huggingface/tokenizers: The current process just got forked, after parallelism has already been used. Disabling parallelism to avoid deadlocks...\n",
      "To disable this warning, you can either:\n",
      "\t- Avoid using `tokenizers` before the fork if possible\n",
      "\t- Explicitly set the environment variable TOKENIZERS_PARALLELISM=(true | false)\n"
     ]
    }
   ],
   "source": [
    "batch_size =32\n",
    "output_dir = \"distilbert-512-fbeta1.6\"\n",
    "num_train_steps = len(dataset[\"train\"]) // batch_size \n",
    "\n",
    "training_args=TrainingArguments(\n",
    "    output_dir=output_dir,\n",
    "    num_train_epochs=3,\n",
    "    learning_rate=1e-5,\n",
    "    per_device_train_batch_size=batch_size,\n",
    "    per_device_eval_batch_size=batch_size,\n",
    "    evaluation_strategy=\"steps\",\n",
    "    logging_steps=num_train_steps //10,  # Log every 10% of the epoch\n",
    "    eval_steps=num_train_steps // 10,  # Evaluate every 10% of the epoch\n",
    "    fp16=True,  # Make it train fast!\n",
    "    push_to_hub=True, # To push to the hub\n",
    "    save_steps=num_train_steps // 10,\n",
    "    save_strategy=\"steps\",  \n",
    "    # weight_decay=0.01,\n",
    "    # seed=42,\n",
    "    # optim=\"adamw_hf\",\n",
    "    # adam_beta1=0.9,\n",
    "    # adam_beta2=0.999,\n",
    "    # adam_epsilon=1e-8,\n",
    "    lr_scheduler_type=\"linear\",\n",
    "    save_total_limit=3,\n",
    "    report_to=\"wandb\",\n",
    "    warmup_steps = 600,\n",
    "    load_best_model_at_end=True,\n",
    "    metric_for_best_model=\"fbeta_1.6\" # We pick the model with the best fbeta1.6 score\n",
    ")\n"
   ]
  },
  {
   "cell_type": "code",
   "execution_count": null,
   "metadata": {},
   "outputs": [],
   "source": [
    "#distilbert-fbeta1.6\n",
    "\n",
    "# Define the Trainer\n",
    "trainer = WeightedLossTrainer(\n",
    "    compute_metrics=compute_metrics,\n",
    "    model=model,\n",
    "    args=training_args,\n",
    "    train_dataset=dataset[\"train\"],\n",
    "    eval_dataset=dataset[\"validation\"],\n",
    "    tokenizer=tokenizer\n",
    ")\n",
    "trainer.train()"
   ]
  },
  {
   "cell_type": "code",
   "execution_count": null,
   "metadata": {},
   "outputs": [],
   "source": [
    "trainer.evaluate()"
   ]
  },
  {
   "cell_type": "code",
   "execution_count": 16,
   "metadata": {},
   "outputs": [],
   "source": [
    "model.save_pretrained(\"distilbertsave\", from_pt=True) \n"
   ]
  },
  {
   "cell_type": "code",
   "execution_count": 17,
   "metadata": {},
   "outputs": [
    {
     "data": {
      "text/plain": [
       "CommitInfo(commit_url='https://huggingface.co/eliasalbouzidi/distilbert-512-fbeta1.6/commit/5a1c244498279eb64058703d1b3b827a48de8a96', commit_message='End of training', commit_description='', oid='5a1c244498279eb64058703d1b3b827a48de8a96', pr_url=None, pr_revision=None, pr_num=None)"
      ]
     },
     "execution_count": 17,
     "metadata": {},
     "output_type": "execute_result"
    }
   ],
   "source": [
    "trainer.push_to_hub() "
   ]
  }
 ],
 "metadata": {
  "kernelspec": {
   "display_name": "Python 3 (ipykernel)",
   "language": "python",
   "name": "python3"
  },
  "language_info": {
   "codemirror_mode": {
    "name": "ipython",
    "version": 3
   },
   "file_extension": ".py",
   "mimetype": "text/x-python",
   "name": "python",
   "nbconvert_exporter": "python",
   "pygments_lexer": "ipython3",
   "version": "3.11.3"
  }
 },
 "nbformat": 4,
 "nbformat_minor": 5
}
